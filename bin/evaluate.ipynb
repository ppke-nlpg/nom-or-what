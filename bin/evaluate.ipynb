{
 "cells": [
  {
   "cell_type": "markdown",
   "metadata": {},
   "source": [
    "# An example evaluation of nom-or-what\n",
    " Here we use the file annotated_1000.txt from the folder example_files. This file contains 1000 sentences with the tags assigned by the algorithm, and the two manually assigned labels (one based on the parsing window, one based on the whole sentence). The evaluation's method is summarized in the evalutation function in evaluation.py."
   ]
  },
  {
   "cell_type": "code",
   "execution_count": null,
   "metadata": {},
   "outputs": [],
   "source": [
    "%load_ext autoreload\n",
    "%autoreload 2\n",
    "from evaluation import *\n",
    "\n",
    "annotated_example_file = 'example_files/annotated_1000.txt'\n"
   ]
  },
  {
   "cell_type": "markdown",
   "metadata": {},
   "source": [
    "# Here comes the evaluation\n",
    "\n",
    "To interpret the numbers please see the detailed description of the evaluation method in the [PhD dissertation](http://btk.ppke.hu/uploads/articles/7431/file/Ligeti_Nagy_disszert%C3%A1ci%C3%B3.pdf) of Noémi Ligeti-Nagy (The Right Edge of the Hungarian NP. A Computational Approach. 2021, Pázmány Péter Catholic University. p 43–44).\n"
   ]
  },
  {
   "cell_type": "code",
   "execution_count": 19,
   "metadata": {},
   "outputs": [
    {
     "name": "stdout",
     "output_type": "stream",
     "text": [
      "xne = 42\n",
      "postag = 128\n",
      "vok = 34\n",
      "\n",
      "Kézi-kézi eredmények:\n",
      "\n",
      "nom_nom 626\n",
      "nom_suff 187\n",
      "suff_nom 0\n",
      "gen_gen 266\n",
      "gen_suff 54\n",
      "suff_suff 17\n",
      "suff_gen 0\n",
      "none_none 762\n",
      "defnone_defnone 6\n",
      "defnone_none 0\n",
      "none_defnone 397\n",
      "other 31\n",
      "\n",
      "\n",
      "Kézi - algoritmus:\n",
      "\n",
      "nom_nom 621\n",
      "nom_suff 13\n",
      "suff_nom 19\n",
      "gen_gen 257\n",
      "gen_suff 4\n",
      "suff_suff 247\n",
      "suff_gen 4\n",
      "none_none 623\n",
      "defnone_defnone 364\n",
      "defnone_none 42\n",
      "none_defnone 131\n",
      "other 21\n",
      "\n",
      "\n",
      "Teljes mondat - algoritmus:\n",
      "\n",
      "nom_nom 630\n",
      "nom_suff 181\n",
      "suff_nom 0\n",
      "gen_gen 258\n",
      "gen_suff 54\n",
      "suff_suff 16\n",
      "suff_gen 1\n",
      "none_none 663\n",
      "defnone_defnone 6\n",
      "defnone_none 0\n",
      "none_defnone 482\n",
      "other 55\n",
      "\n"
     ]
    }
   ],
   "source": [
    "# Here we apply the evaluation function to the example annotated file.\n",
    "evaluate_nom_or_what(annotated_example_file)\n"
   ]
  },
  {
   "cell_type": "code",
   "execution_count": null,
   "metadata": {},
   "outputs": [],
   "source": []
  },
  {
   "cell_type": "code",
   "execution_count": null,
   "metadata": {},
   "outputs": [],
   "source": []
  }
 ],
 "metadata": {
  "kernelspec": {
   "display_name": "Python 3",
   "language": "python",
   "name": "python3"
  },
  "language_info": {
   "codemirror_mode": {
    "name": "ipython",
    "version": 3
   },
   "file_extension": ".py",
   "mimetype": "text/x-python",
   "name": "python",
   "nbconvert_exporter": "python",
   "pygments_lexer": "ipython3",
   "version": "3.8.5"
  }
 },
 "nbformat": 4,
 "nbformat_minor": 4
}
