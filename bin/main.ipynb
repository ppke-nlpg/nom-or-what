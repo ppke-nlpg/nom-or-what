{
 "cells": [
  {
   "cell_type": "markdown",
   "metadata": {},
   "source": [
    "# Nom-or-what usage example\n",
    "Nom-or-what is designed to disambiguate the roles of nouns, adjectives, numerals etc. in Hungarian that bear no overt case suffix.\n",
    "\n",
    "\n",
    "## Input\n",
    "\n",
    "The input file has to contain one sentence / line. The tokens need to be annotated with emMorph (in a \"/\"-separated format, and with the tag set of emMorph). Here, input_1000.txt in the example_files folder is an example file; it contains 1000 sentences nom-or-what has been evaluated on.\n",
    "\n",
    "## Output\n",
    "\n",
    "The output file will be like output_1000.txt in example_files folder: Enumerated sentences with the parsing window of each suffixless nominals in them, and the proposed tag of each suffixless nominal (listed three times - to prepare the file for the manual annotation).\n",
    "\n",
    "\n"
   ]
  },
  {
   "cell_type": "code",
   "execution_count": null,
   "metadata": {},
   "outputs": [],
   "source": [
    "# setting up the environment\n",
    "\n",
    "import re\n",
    "import yaml\n",
    "\n",
    "from nomorwhat import *\n",
    "\n",
    "%load_ext autoreload\n",
    "%autoreload 2\n",
    "\n",
    "macro_config_file = 'macros.yml'\n",
    "# Check if the input is the required format (emMorph format).\n",
    "input_file = 'example_files/nom_or_what_input_example_1000.txt'\n",
    "\n",
    "# Optional output. In this example the output is printed into a file.\n",
    "output_file = 'example_files/nom_or_what_output_example_1000.txt'\n",
    "\n"
   ]
  },
  {
   "cell_type": "code",
   "execution_count": null,
   "metadata": {},
   "outputs": [],
   "source": [
    "# reading macros\n",
    "with open(macro_config_file, 'r') as fin:\n",
    "    macros = yaml.load(fin)"
   ]
  },
  {
   "cell_type": "markdown",
   "metadata": {},
   "source": [
    "### In this example the output is printed into a file. You can do whatever you want with the output."
   ]
  },
  {
   "cell_type": "code",
   "execution_count": 8,
   "metadata": {},
   "outputs": [],
   "source": [
    "# Calling the nom-or-what function to the sentences in the input file. 1000 sentences are processed here.  \n",
    "with open(input_file, 'r') as inp, open(output_file, 'w') as outp:\n",
    "    for i, line in enumerate(inp, start = 1):\n",
    "        new_sent, to_write = nom_or_what(line, macros)\n",
    "        write_to_annot_file(new_sent, to_write, outp, i)"
   ]
  },
  {
   "cell_type": "code",
   "execution_count": null,
   "metadata": {},
   "outputs": [],
   "source": []
  }
 ],
 "metadata": {
  "kernelspec": {
   "display_name": "Python 3",
   "language": "python",
   "name": "python3"
  },
  "language_info": {
   "codemirror_mode": {
    "name": "ipython",
    "version": 3
   },
   "file_extension": ".py",
   "mimetype": "text/x-python",
   "name": "python",
   "nbconvert_exporter": "python",
   "pygments_lexer": "ipython3",
   "version": "3.8.5"
  }
 },
 "nbformat": 4,
 "nbformat_minor": 4
}
